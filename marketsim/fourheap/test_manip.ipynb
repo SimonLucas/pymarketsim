{
 "cells": [
  {
   "cell_type": "code",
   "execution_count": 6,
   "id": "initial_id",
   "metadata": {
    "ExecuteTime": {
     "end_time": "2023-11-01T23:39:00.794944Z",
     "start_time": "2023-11-01T23:39:00.665486Z"
    },
    "collapsed": true
   },
   "outputs": [
    {
     "name": "stdout",
     "output_type": "stream",
     "text": [
      "The autoreload extension is already loaded. To reload it, use:\n",
      "  %reload_ext autoreload\n",
      "['/Users/anrigu/Fall_2022/Research/DeepSpoofing/market-sim-py/marketsim/fourheap', '/Users/anrigu/.vscode/extensions/ms-toolsai.jupyter-2022.9.1303220346/pythonFiles', '/Users/anrigu/.vscode/extensions/ms-toolsai.jupyter-2022.9.1303220346/pythonFiles/lib/python', '/opt/homebrew/Cellar/python@3.9/3.9.18/Frameworks/Python.framework/Versions/3.9/lib/python39.zip', '/opt/homebrew/Cellar/python@3.9/3.9.18/Frameworks/Python.framework/Versions/3.9/lib/python3.9', '/opt/homebrew/Cellar/python@3.9/3.9.18/Frameworks/Python.framework/Versions/3.9/lib/python3.9/lib-dynload', '', '/Users/anrigu/Fall_2022/Research/DeepSpoofing/market-sim-py/venv/lib/python3.9/site-packages']\n"
     ]
    }
   ],
   "source": [
    "%load_ext autoreload\n",
    "%autoreload 2\n",
    "\n",
    "from fourheap import FourHeap\n",
    "from order import Order\n",
    "import constants"
   ]
  },
  {
   "cell_type": "code",
   "execution_count": 8,
   "id": "c1a61ad08e99f88f",
   "metadata": {
    "ExecuteTime": {
     "end_time": "2023-11-01T23:39:01.447566Z",
     "start_time": "2023-11-01T23:39:01.430420Z"
    },
    "collapsed": false
   },
   "outputs": [],
   "source": [
    "def get_vwap(matched_orders):\n",
    "    num = 0\n",
    "    den = 0\n",
    "    for order in matched_orders:\n",
    "        if order.order.order_type == constants.BUY:\n",
    "            price = order.price\n",
    "            quantity = order.order.quantity\n",
    "            num += price*quantity\n",
    "            den += quantity\n",
    "            \n",
    "    return num/den\n"
   ]
  },
  {
   "cell_type": "code",
   "execution_count": 9,
   "id": "f5338d3ab850379f",
   "metadata": {
    "ExecuteTime": {
     "end_time": "2023-11-01T23:39:01.869848Z",
     "start_time": "2023-11-01T23:39:01.852111Z"
    },
    "collapsed": false
   },
   "outputs": [],
   "source": [
    "fh = FourHeap()\n",
    "\n",
    "oid = 0\n",
    "order =  Order(price=102, quantity=1, order_id=oid, agent_id=1, order_type=constants.SELL, time=1)\n",
    "fh.insert(order)\n",
    "oid += 1\n",
    "order =  Order(price=101, quantity=1, order_id=oid, agent_id=1, order_type=constants.SELL, time=1)\n",
    "fh.insert(order)\n",
    "oid += 1\n",
    "order =  Order(price=97, quantity=1, order_id=oid, agent_id=1, order_type=constants.BUY, time=1)\n",
    "fh.insert(order)\n",
    "oid += 1\n",
    "order =  Order(price=98, quantity=1, order_id=oid, agent_id=1, order_type=constants.BUY, time=1)\n",
    "fh.insert(order)\n",
    "oid += 1\n",
    "order =  Order(price=99, quantity=1, order_id=oid, agent_id=1, order_type=constants.BUY, time=1)\n",
    "fh.insert(order)\n",
    "out = fh.market_clear()\n",
    "oid += 1\n",
    "order =  Order(price=101, quantity=1, order_id=oid, agent_id=1, order_type=constants.BUY, time=2)\n",
    "fh.insert(order)\n",
    "out += fh.market_clear()\n",
    "oid += 1\n",
    "order =  Order(price=99, quantity=1, order_id=oid, agent_id=1, order_type=constants.SELL, time=4)\n",
    "fh.insert(order)\n",
    "out += fh.market_clear()\n",
    "oid += 1\n",
    "order =  Order(price=101, quantity=1, order_id=oid, agent_id=1, order_type=constants.SELL, time=5)\n",
    "fh.insert(order)\n",
    "out += fh.market_clear()\n",
    "oid += 1\n",
    "order =  Order(price=101, quantity=1, order_id=oid, agent_id=1, order_type=constants.BUY, time=6)\n",
    "fh.insert(order)\n",
    "out += fh.market_clear()\n",
    "oid += 1\n",
    "\n",
    "\n"
   ]
  },
  {
   "cell_type": "code",
   "execution_count": 10,
   "id": "879f0483fc4843d9",
   "metadata": {
    "ExecuteTime": {
     "end_time": "2023-11-01T23:39:02.385099Z",
     "start_time": "2023-11-01T23:39:02.370552Z"
    },
    "collapsed": false
   },
   "outputs": [
    {
     "data": {
      "text/plain": [
       "100.33333333333333"
      ]
     },
     "execution_count": 10,
     "metadata": {},
     "output_type": "execute_result"
    }
   ],
   "source": [
    "get_vwap(out)"
   ]
  },
  {
   "cell_type": "code",
   "execution_count": 11,
   "id": "5a6f76edb4dc7410",
   "metadata": {
    "ExecuteTime": {
     "end_time": "2023-11-01T23:39:03.064419Z",
     "start_time": "2023-11-01T23:39:03.040575Z"
    },
    "collapsed": false
   },
   "outputs": [],
   "source": [
    "order =  Order(price=99, quantity=1, order_id=oid, agent_id=1, order_type=constants.SELL, time=7)\n",
    "fh.insert(order)\n",
    "out += fh.market_clear()\n",
    "oid += 1\n",
    "order =  Order(price=98, quantity=1, order_id=oid, agent_id=1, order_type=constants.SELL, time=8)\n",
    "fh.insert(order)\n",
    "out += fh.market_clear()\n",
    "oid += 1\n",
    "order =  Order(price=97, quantity=1, order_id=oid, agent_id=1, order_type=constants.SELL, time=9)\n",
    "fh.insert(order)\n",
    "out += fh.market_clear()\n",
    "oid += 1\n"
   ]
  },
  {
   "cell_type": "code",
   "execution_count": 12,
   "id": "70cc208991c64663",
   "metadata": {
    "ExecuteTime": {
     "end_time": "2023-11-01T23:39:03.070711Z",
     "start_time": "2023-11-01T23:39:03.053799Z"
    },
    "collapsed": false
   },
   "outputs": [
    {
     "data": {
      "text/plain": [
       "99.2"
      ]
     },
     "execution_count": 12,
     "metadata": {},
     "output_type": "execute_result"
    }
   ],
   "source": [
    "get_vwap(out)"
   ]
  },
  {
   "cell_type": "code",
   "execution_count": 95,
   "id": "528112ad629492a",
   "metadata": {
    "ExecuteTime": {
     "end_time": "2023-11-01T21:03:34.045261Z",
     "start_time": "2023-11-01T21:03:33.895642Z"
    },
    "collapsed": false
   },
   "outputs": [],
   "source": [
    "a = [1, 2, 3, 4]"
   ]
  },
  {
   "cell_type": "code",
   "execution_count": 96,
   "id": "7ae9a98dc93d21b1",
   "metadata": {
    "ExecuteTime": {
     "end_time": "2023-11-01T21:03:37.711445Z",
     "start_time": "2023-11-01T21:03:37.696242Z"
    },
    "collapsed": false
   },
   "outputs": [],
   "source": [
    "import random"
   ]
  },
  {
   "cell_type": "code",
   "execution_count": 97,
   "id": "3a2bc68aedb16220",
   "metadata": {
    "ExecuteTime": {
     "end_time": "2023-11-01T21:03:42.607269Z",
     "start_time": "2023-11-01T21:03:42.577571Z"
    },
    "collapsed": false
   },
   "outputs": [
    {
     "data": {
      "text/plain": [
       "[2, 1, 4, 3]"
      ]
     },
     "execution_count": 97,
     "metadata": {},
     "output_type": "execute_result"
    }
   ],
   "source": [
    "random.shuffle(a)\n",
    "a"
   ]
  },
  {
   "cell_type": "code",
   "execution_count": 98,
   "id": "ebf015dbc5447fb3",
   "metadata": {
    "ExecuteTime": {
     "end_time": "2023-11-01T21:12:14.949515Z",
     "start_time": "2023-11-01T21:12:14.879507Z"
    },
    "collapsed": false
   },
   "outputs": [
    {
     "data": {
      "text/plain": [
       "<random.Random at 0x1469aac20>"
      ]
     },
     "execution_count": 98,
     "metadata": {},
     "output_type": "execute_result"
    }
   ],
   "source": [
    "random.Random(None)"
   ]
  },
  {
   "cell_type": "code",
   "execution_count": null,
   "id": "3b403a781c8f899b",
   "metadata": {
    "collapsed": false
   },
   "outputs": [],
   "source": []
  }
 ],
 "metadata": {
  "kernelspec": {
   "display_name": "deepSpoofing_kernel",
   "language": "python",
   "name": "venv"
  },
  "language_info": {
   "codemirror_mode": {
    "name": "ipython",
    "version": 3
   },
   "file_extension": ".py",
   "mimetype": "text/x-python",
   "name": "python",
   "nbconvert_exporter": "python",
   "pygments_lexer": "ipython3",
   "version": "3.9.18"
  },
  "vscode": {
   "interpreter": {
    "hash": "aee8b7b246df8f9039afb4144a1f6fd8d2ca17a180786b69acc140d282b71a49"
   }
  }
 },
 "nbformat": 4,
 "nbformat_minor": 5
}
