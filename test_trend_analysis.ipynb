{
 "cells": [
  {
   "cell_type": "code",
   "execution_count": 1,
   "id": "initial_id",
   "metadata": {
    "ExecuteTime": {
     "end_time": "2024-03-27T23:39:39.806325Z",
     "start_time": "2024-03-27T23:39:37.947319Z"
    },
    "collapsed": true
   },
   "outputs": [],
   "source": [
    "# from marketsim.simulator.sampled_arrival_simulator import SimulatorSampledArrival\n",
    "from marketsim.simulator.simulator_trend_testing import SimulatorSampledArrival\n",
    "from tqdm.notebook import tqdm"
   ]
  },
  {
   "cell_type": "code",
   "execution_count": 2,
   "id": "72ae6676eeab193e",
   "metadata": {
    "ExecuteTime": {
     "end_time": "2024-03-25T08:07:38.106565700Z",
     "start_time": "2024-03-25T08:07:38.103557300Z"
    },
    "collapsed": false
   },
   "outputs": [],
   "source": [
    "# %%timeit\n",
    "# \n",
    "# sim = Simulator(num_agents=66, sim_time=60000, lam=1e-4, mean=1e7, r=.05, shock_var=1e6)\n",
    "# sim.run()"
   ]
  },
  {
   "cell_type": "code",
   "execution_count": 3,
   "id": "a68010fcb5fc866b",
   "metadata": {
    "ExecuteTime": {
     "end_time": "2024-03-25T08:38:17.892762800Z",
     "start_time": "2024-03-25T08:35:52.049473800Z"
    },
    "collapsed": false
   },
   "outputs": [
    {
     "data": {
      "application/vnd.jupyter.widget-view+json": {
       "model_id": "593d48b7dea1421ca3fe8dbdb17fcc2b",
       "version_major": 2,
       "version_minor": 0
      },
      "text/plain": [
       "  0%|          | 0/100 [00:00<?, ?it/s]"
      ]
     },
     "metadata": {},
     "output_type": "display_data"
    },
    {
     "name": "stdout",
     "output_type": "stream",
     "text": [
      "tensor(11396.8584)\n",
      "CPU times: user 11.6 s, sys: 3.63 s, total: 15.2 s\n",
      "Wall time: 2.22 s\n"
     ]
    }
   ],
   "source": [
    "%%time\n",
    "surpluses = []\n",
    "\n",
    "for _ in tqdm(range(100)):\n",
    "    sim = SimulatorSampledArrival(num_background_agents=25, \n",
    "                                  sim_time=12000, \n",
    "                                  lam=5e-4, \n",
    "                                  mean=1e5, \n",
    "                                  r=0.05, \n",
    "                                  shock_var=5e6, \n",
    "                                  q_max=10,\n",
    "                                  pv_var=5e6,\n",
    "                                  shade=[250,500])\n",
    "    sim.run()\n",
    "    fundamental_val = sim.markets[0].get_final_fundamental()\n",
    "    values = []\n",
    "    for agent_id in sim.agents:\n",
    "        agent = sim.agents[agent_id]\n",
    "        value = agent.get_pos_value() + agent.position * fundamental_val + agent.cash\n",
    "        # print(agent.cash, agent.position, agent.get_pos_value(), value)\n",
    "        values.append(value)\n",
    "    surpluses.append(sum(values)/len(values))\n",
    "print(sum(surpluses)/len(surpluses)*25)"
   ]
  },
  {
   "cell_type": "code",
   "execution_count": 4,
   "id": "267d23c6",
   "metadata": {},
   "outputs": [
    {
     "data": {
      "text/plain": [
       "[tensor(813.0963),\n",
       " tensor(291.6085),\n",
       " tensor(483.5026),\n",
       " tensor(459.3750),\n",
       " tensor(529.7661),\n",
       " tensor(578.6075),\n",
       " tensor(421.9732),\n",
       " tensor(156.5309),\n",
       " tensor(235.9474),\n",
       " tensor(333.6800),\n",
       " tensor(762.1813),\n",
       " tensor(550.4937),\n",
       " tensor(690.6586),\n",
       " tensor(533.4119),\n",
       " tensor(337.5036),\n",
       " tensor(543.0751),\n",
       " tensor(536.9567),\n",
       " tensor(519.7426),\n",
       " tensor(372.5947),\n",
       " tensor(146.1175),\n",
       " tensor(414.8227),\n",
       " tensor(347.5646),\n",
       " tensor(251.4480),\n",
       " tensor(353.6226),\n",
       " tensor(742.4153),\n",
       " tensor(506.3975),\n",
       " tensor(382.5135),\n",
       " tensor(468.0865),\n",
       " tensor(408.4498),\n",
       " tensor(552.2900),\n",
       " tensor(369.4048),\n",
       " tensor(516.5577),\n",
       " tensor(477.9159),\n",
       " tensor(307.5949),\n",
       " tensor(603.3619),\n",
       " tensor(480.2343),\n",
       " tensor(366.7356),\n",
       " tensor(470.6647),\n",
       " tensor(461.0793),\n",
       " tensor(500.9023),\n",
       " tensor(517.8956),\n",
       " tensor(515.1151),\n",
       " tensor(449.3405),\n",
       " tensor(591.7635),\n",
       " tensor(335.0027),\n",
       " tensor(234.0643),\n",
       " tensor(436.2946),\n",
       " tensor(344.3630),\n",
       " tensor(367.1713),\n",
       " tensor(639.2545),\n",
       " tensor(708.1383),\n",
       " tensor(475.5460),\n",
       " tensor(685.6126),\n",
       " tensor(144.8371),\n",
       " tensor(343.8750),\n",
       " tensor(301.7686),\n",
       " tensor(674.8933),\n",
       " tensor(578.2532),\n",
       " tensor(285.8945),\n",
       " tensor(306.2900),\n",
       " tensor(316.9633),\n",
       " tensor(608.4811),\n",
       " tensor(502.1313),\n",
       " tensor(321.4377),\n",
       " tensor(782.1559),\n",
       " tensor(330.6019),\n",
       " tensor(291.5285),\n",
       " tensor(391.8227),\n",
       " tensor(477.7076),\n",
       " tensor(377.1947),\n",
       " tensor(480.1146),\n",
       " tensor(396.5556),\n",
       " tensor(368.7933),\n",
       " tensor(687.7089),\n",
       " tensor(968.1280),\n",
       " tensor(373.6406),\n",
       " tensor(421.2623),\n",
       " tensor(550.5114),\n",
       " tensor(648.9142),\n",
       " tensor(441.7208),\n",
       " tensor(246.4400),\n",
       " tensor(442.6882),\n",
       " tensor(209.8822),\n",
       " tensor(492.4267),\n",
       " tensor(362.9393),\n",
       " tensor(589.1253),\n",
       " tensor(420.9073),\n",
       " tensor(529.7767),\n",
       " tensor(188.6821),\n",
       " tensor(414.5089),\n",
       " tensor(455.0848),\n",
       " tensor(216.8191),\n",
       " tensor(621.8325),\n",
       " tensor(408.0962),\n",
       " tensor(677.1022),\n",
       " tensor(217.0932),\n",
       " tensor(435.6415),\n",
       " tensor(362.1058),\n",
       " tensor(707.0156),\n",
       " tensor(637.6279)]"
      ]
     },
     "execution_count": 4,
     "metadata": {},
     "output_type": "execute_result"
    }
   ],
   "source": [
    "surpluses"
   ]
  },
  {
   "cell_type": "code",
   "execution_count": 5,
   "id": "2090899632c545a9",
   "metadata": {
    "ExecuteTime": {
     "end_time": "2024-03-25T08:47:01.079261600Z",
     "start_time": "2024-03-25T08:42:17.296566Z"
    },
    "collapsed": false
   },
   "outputs": [
    {
     "data": {
      "application/vnd.jupyter.widget-view+json": {
       "model_id": "05cbfab9e8834918b6764c94d7a323fd",
       "version_major": 2,
       "version_minor": 0
      },
      "text/plain": [
       "  0%|          | 0/10000 [00:00<?, ?it/s]"
      ]
     },
     "metadata": {},
     "output_type": "display_data"
    },
    {
     "name": "stdout",
     "output_type": "stream",
     "text": [
      "tensor(14329.7041)\n",
      "CPU times: user 47min 11s, sys: 12min, total: 59min 12s\n",
      "Wall time: 8min 3s\n"
     ]
    }
   ],
   "source": [
    "%%time\n",
    "surpluses = []\n",
    "\n",
    "for _ in tqdm(range(10000)):\n",
    "    sim = SimulatorSampledArrival(num_background_agents=25, \n",
    "                                  sim_time=24000, \n",
    "                                  lam=5e-4, \n",
    "                                  mean=1e5, \n",
    "                                  r=0.05, \n",
    "                                  shock_var=1e6, \n",
    "                                  q_max=10,\n",
    "                                  pv_var=5e6,\n",
    "                                  shade=[250,500])\n",
    "    sim.run()\n",
    "    fundamental_val = sim.markets[0].get_final_fundamental()\n",
    "    values = []\n",
    "    for agent_id in sim.agents:\n",
    "        agent = sim.agents[agent_id]\n",
    "        value = agent.get_pos_value() + agent.position * fundamental_val + agent.cash\n",
    "        # print(agent.cash, agent.position, agent.get_pos_value(), value)\n",
    "        values.append(value)\n",
    "    surpluses.append(sum(values)/len(values))\n",
    "print(sum(surpluses)/len(surpluses)*25)"
   ]
  },
  {
   "cell_type": "code",
   "execution_count": 6,
   "id": "5de51e0d65a858cd",
   "metadata": {
    "ExecuteTime": {
     "end_time": "2024-03-25T08:41:32.234485300Z",
     "start_time": "2024-03-25T08:40:26.996067200Z"
    },
    "collapsed": false
   },
   "outputs": [
    {
     "data": {
      "application/vnd.jupyter.widget-view+json": {
       "model_id": "fe3672ec52d54cc59ace6b99b76a6cfc",
       "version_major": 2,
       "version_minor": 0
      },
      "text/plain": [
       "  0%|          | 0/10000 [00:00<?, ?it/s]"
      ]
     },
     "metadata": {},
     "output_type": "display_data"
    },
    {
     "name": "stdout",
     "output_type": "stream",
     "text": [
      "tensor(10839.7383)\n",
      "CPU times: user 14min 45s, sys: 3min 31s, total: 18min 16s\n",
      "Wall time: 2min 25s\n"
     ]
    }
   ],
   "source": [
    "%%time\n",
    "surpluses = []\n",
    "\n",
    "for _ in tqdm(range(10000)):\n",
    "    sim = SimulatorSampledArrival(num_background_agents=25, \n",
    "                                  sim_time=1000, \n",
    "                                  lam=5e-3, \n",
    "                                  mean=1e5, \n",
    "                                  r=0.05, \n",
    "                                  shock_var=5e5, \n",
    "                                  q_max=10,\n",
    "                                  pv_var=5e6,\n",
    "                                  shade=[250,500])\n",
    "    sim.run()\n",
    "    fundamental_val = sim.markets[0].get_final_fundamental()\n",
    "    values = []\n",
    "    for agent_id in sim.agents:\n",
    "        agent = sim.agents[agent_id]\n",
    "        value = agent.get_pos_value() + agent.position * fundamental_val + agent.cash\n",
    "        # print(agent.cash, agent.position, agent.get_pos_value(), value)\n",
    "        values.append(value)\n",
    "    surpluses.append(sum(values)/len(values))\n",
    "print(sum(surpluses)/len(surpluses)*25)"
   ]
  },
  {
   "cell_type": "code",
   "execution_count": 7,
   "id": "da028cd7fb618978",
   "metadata": {
    "ExecuteTime": {
     "end_time": "2024-03-26T20:44:46.314860800Z",
     "start_time": "2024-03-26T20:44:46.196664700Z"
    },
    "collapsed": false
   },
   "outputs": [
    {
     "name": "stdout",
     "output_type": "stream",
     "text": [
      "98720.796875\n"
     ]
    },
    {
     "data": {
      "image/png": "[encoded data removed]",
      "text/plain": [
       "<Figure size 640x480 with 1 Axes>"
      ]
     },
     "metadata": {},
     "output_type": "display_data"
    }
   ],
   "source": [
    "sim = SimulatorSampledArrival(num_background_agents=25, \n",
    "                              sim_time=1000, \n",
    "                              lam=5e-3, \n",
    "                              mean=1e5, \n",
    "                              r=0.05, \n",
    "                              shock_var=5e5, \n",
    "                              q_max=10,\n",
    "                              pv_var=5e6,\n",
    "                              shade=[250,500])\n",
    "sim.run()\n",
    "fundamental_val = sim.markets[0].get_final_fundamental()\n",
    "values = []\n",
    "for agent_id in sim.agents:\n",
    "    agent = sim.agents[agent_id]\n",
    "    value = agent.get_pos_value() + agent.position * fundamental_val + agent.cash\n",
    "    # print(agent.cash, agent.position, agent.get_pos_value(), value)\n",
    "    values.append(value)\n",
    "surpluses.append(sum(values)/len(values))\n",
    "\n",
    "\n",
    "positions = []\n",
    "values = []\n",
    "fundamental_val = sim.markets[0].get_final_fundamental()\n",
    "\n",
    "for agent_id in sim.agents:\n",
    "    agent = sim.agents[agent_id]\n",
    "    value = agent.get_pos_value() + agent.position * fundamental_val + agent.cash\n",
    "    # print(agent.cash, agent.position, agent.get_pos_value(), value)\n",
    "    positions.append(agent.position)\n",
    "    values.append(value)\n",
    "\n",
    "import matplotlib.pyplot as plt\n",
    "\n",
    "print(fundamental_val)\n",
    "plt.scatter(positions, values)\n",
    "plt.xlabel('Position')\n",
    "plt.ylabel('Value')\n",
    "plt.title(f'Agent Position vs Value at fundamental {fundamental_val}')\n",
    "plt.show()\n"
   ]
  },
  {
   "cell_type": "code",
   "execution_count": 8,
   "id": "44a74cbe8acf673",
   "metadata": {
    "ExecuteTime": {
     "end_time": "2024-03-26T20:44:58.709570600Z",
     "start_time": "2024-03-26T20:44:58.596987100Z"
    },
    "collapsed": false
   },
   "outputs": [
    {
     "name": "stdout",
     "output_type": "stream",
     "text": [
      "97220.203125\n"
     ]
    },
    {
     "data": {
      "image/png": "[encoded data removed]",
      "text/plain": [
       "<Figure size 640x480 with 1 Axes>"
      ]
     },
     "metadata": {},
     "output_type": "display_data"
    }
   ],
   "source": [
    "sim = SimulatorSampledArrival(num_background_agents=25, \n",
    "                              sim_time=1000, \n",
    "                              lam=5e-3, \n",
    "                              mean=1e5, \n",
    "                              r=0.05, \n",
    "                              shock_var=5e5, \n",
    "                              q_max=10,\n",
    "                              pv_var=5e6,\n",
    "                              shade=[250,500])\n",
    "sim.run()\n",
    "fundamental_val = sim.markets[0].get_final_fundamental()\n",
    "values = []\n",
    "for agent_id in sim.agents:\n",
    "    agent = sim.agents[agent_id]\n",
    "    value = agent.get_pos_value() + agent.position * fundamental_val + agent.cash\n",
    "    # print(agent.cash, agent.position, agent.get_pos_value(), value)\n",
    "    values.append(value)\n",
    "surpluses.append(sum(values)/len(values))\n",
    "\n",
    "\n",
    "positions = []\n",
    "values = []\n",
    "fundamental_val = sim.markets[0].get_final_fundamental()\n",
    "\n",
    "for agent_id in sim.agents:\n",
    "    agent = sim.agents[agent_id]\n",
    "    value = agent.get_pos_value() + agent.position * fundamental_val + agent.cash\n",
    "    # print(agent.cash, agent.position, agent.get_pos_value(), value)\n",
    "    positions.append(agent.position)\n",
    "    values.append(value)\n",
    "\n",
    "import matplotlib.pyplot as plt\n",
    "\n",
    "print(fundamental_val)\n",
    "plt.scatter(positions, values)\n",
    "plt.xlabel('Position')\n",
    "plt.ylabel('Value')\n",
    "plt.title(f'Agent Position vs Value at fundamental {fundamental_val}')\n",
    "plt.show()\n"
   ]
  },
  {
   "cell_type": "code",
   "execution_count": 9,
   "id": "31f002d1c196705a",
   "metadata": {
    "ExecuteTime": {
     "end_time": "2024-03-27T23:40:00.547410Z",
     "start_time": "2024-03-27T23:40:00.470896Z"
    },
    "collapsed": false
   },
   "outputs": [
    {
     "name": "stdout",
     "output_type": "stream",
     "text": [
      "103123.8125\n"
     ]
    },
    {
     "data": {
      "image/png": "[encoded data removed]",
      "text/plain": [
       "<Figure size 640x480 with 1 Axes>"
      ]
     },
     "metadata": {},
     "output_type": "display_data"
    }
   ],
   "source": [
    "sim = SimulatorSampledArrival(num_background_agents=100, \n",
    "                              sim_time=1000, \n",
    "                              lam=5e-3, \n",
    "                              mean=1e5, \n",
    "                              r=0.05, \n",
    "                              shock_var=5e5, \n",
    "                              q_max=10,\n",
    "                              pv_var=5e6,\n",
    "                              shade=[250,500])\n",
    "sim.run()\n",
    "fundamental_val = sim.markets[0].get_final_fundamental()\n",
    "values = []\n",
    "for agent_id in sim.agents:\n",
    "    agent = sim.agents[agent_id]\n",
    "    value = agent.get_pos_value() + agent.position * fundamental_val + agent.cash\n",
    "    # print(agent.cash, agent.position, agent.get_pos_value(), value)\n",
    "    values.append(value)\n",
    "\n",
    "\n",
    "positions = []\n",
    "values = []\n",
    "fundamental_val = sim.markets[0].get_final_fundamental()\n",
    "\n",
    "for agent_id in sim.agents:\n",
    "    agent = sim.agents[agent_id]\n",
    "    value = agent.get_pos_value() + agent.position * fundamental_val + agent.cash\n",
    "    # print(agent.cash, agent.position, agent.get_pos_value(), value)\n",
    "    positions.append(agent.position)\n",
    "    values.append(value)\n",
    "\n",
    "import matplotlib.pyplot as plt\n",
    "\n",
    "print(fundamental_val)\n",
    "plt.scatter(positions, values)\n",
    "plt.xlabel('Position')\n",
    "plt.ylabel('Value')\n",
    "plt.title(f'Agent Position vs Value at fundamental {fundamental_val}')\n",
    "plt.show()\n"
   ]
  },
  {
   "cell_type": "code",
   "execution_count": null,
   "id": "d8c2f016f622c77c",
   "metadata": {
    "collapsed": false
   },
   "outputs": [],
   "source": []
  },
  {
   "cell_type": "code",
   "execution_count": null,
   "id": "8fe4274a",
   "metadata": {},
   "outputs": [],
   "source": []
  }
 ],
 "metadata": {
  "kernelspec": {
   "display_name": "Python 3",
   "language": "python",
   "name": "python3"
  },
  "language_info": {
   "codemirror_mode": {
    "name": "ipython",
    "version": 3
   },
   "file_extension": ".py",
   "mimetype": "text/x-python",
   "name": "python",
   "nbconvert_exporter": "python",
   "pygments_lexer": "ipython3",
   "version": "3.9.12"
  }
 },
 "nbformat": 4,
 "nbformat_minor": 5
}
